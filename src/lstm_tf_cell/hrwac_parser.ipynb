{
 "cells": [
  {
   "cell_type": "code",
   "execution_count": 2,
   "metadata": {
    "collapsed": false
   },
   "outputs": [
    {
     "name": "stdout",
     "output_type": "stream",
     "text": [
      "50000000\n",
      "100000000\n",
      "150000000\n",
      "200000000\n",
      "250000000\n",
      "300000000\n",
      "350000000\n",
      "400000000\n",
      "450000000\n",
      "500000000\n",
      "550000000\n",
      "600000000\n",
      "650000000\n",
      "700000000\n",
      "750000000\n",
      "800000000\n",
      "850000000\n",
      "900000000\n",
      "950000000\n",
      "1000000000\n",
      "1050000000\n",
      "1100000000\n",
      "1150000000\n",
      "1200000000\n",
      "1250000000\n"
     ]
    }
   ],
   "source": [
    "input_file = '/data/corpora/hrwac/fhrwac-parsed.conll'\n",
    "output_file = 'hrwac_sentences_2.txt'\n",
    "\n",
    "sentence = \"\"\n",
    "\n",
    "i=0\n",
    "with open(input_file, mode='rt') as f:\n",
    "    with open(output_file, mode='wt') as o:\n",
    "        for line in f:\n",
    "            i += 1\n",
    "            if i % 50000000 == 0:\n",
    "                print(i)\n",
    "            line = line.strip() \n",
    "            if (len(line) == 0):\n",
    "                continue\n",
    "            tokens = line.split()\n",
    "            if tokens[0] == '1' and len(sentence) != 0:\n",
    "                o.write(sentence.strip() + \"\\n\")\n",
    "                if tokens[7] == \"Punc\":\n",
    "                    sentence = tokens[1].lower()\n",
    "                else:\n",
    "                    sentence = tokens[1].lower() + \" \"\n",
    "            else:\n",
    "                if tokens[7] == \"Punc\":\n",
    "                    sentence = sentence.strip() + tokens[1].lower()\n",
    "                else:\n",
    "                    sentence += tokens[1].lower() + \" \""
   ]
  },
  {
   "cell_type": "code",
   "execution_count": 4,
   "metadata": {
    "collapsed": false
   },
   "outputs": [],
   "source": [
    "# remove new lines\n",
    "\n",
    "hrwac_2 = open('./hrwac_sentences_2.txt', mode='r')\n",
    "hrwac_3 = open('./hrwac_sentences_3.txt', mode='w')\n",
    "\n",
    "for line in hrwac_2:\n",
    "    hrwac_3.write(line.strip() + \" \")\n",
    "    \n",
    "hrwac_2.close()\n",
    "hrwac_3.close()\n"
   ]
  }
 ],
 "metadata": {
  "kernelspec": {
   "display_name": "IPython (Python 2)",
   "language": "python",
   "name": "python2"
  },
  "language_info": {
   "codemirror_mode": {
    "name": "ipython",
    "version": 2
   },
   "file_extension": ".py",
   "mimetype": "text/x-python",
   "name": "python",
   "nbconvert_exporter": "python",
   "pygments_lexer": "ipython2",
   "version": "2.7.6"
  }
 },
 "nbformat": 4,
 "nbformat_minor": 0
}
