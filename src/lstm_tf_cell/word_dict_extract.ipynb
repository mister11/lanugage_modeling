{
 "cells": [
  {
   "cell_type": "code",
   "execution_count": 23,
   "metadata": {
    "collapsed": false
   },
   "outputs": [],
   "source": [
    "import cPickle as pickle\n",
    "from os import listdir\n",
    "from collections import Counter"
   ]
  },
  {
   "cell_type": "code",
   "execution_count": 25,
   "metadata": {
    "collapsed": false
   },
   "outputs": [
    {
     "data": {
      "text/plain": [
       "['news.en-00001-of-00100',\n",
       " 'news.en-00003-of-00100',\n",
       " 'news.en-00002-of-00100',\n",
       " 'news.en-00004-of-00100',\n",
       " 'news.en-00005-of-00100',\n",
       " 'news.en-00006-of-00100']"
      ]
     },
     "execution_count": 25,
     "metadata": {},
     "output_type": "execute_result"
    }
   ],
   "source": [
    "dataset_files_path = '../nobackup/1-billion-chunk/'\n",
    "\n",
    "files = listdir(dataset_files_path + 'text/')\n",
    "\n",
    "files"
   ]
  },
  {
   "cell_type": "code",
   "execution_count": 22,
   "metadata": {
    "collapsed": false
   },
   "outputs": [
    {
     "name": "stdout",
     "output_type": "stream",
     "text": [
      "news.en-00001-of-00100\n",
      "news.en-00003-of-00100\n",
      "news.en-00002-of-00100\n",
      "news.en-00004-of-00100\n",
      "news.en-00005-of-00100\n",
      "news.en-00006-of-00100\n"
     ]
    }
   ],
   "source": [
    "dict_count = Counter()\n",
    "\n",
    "for filename in files:\n",
    "    print(filename)\n",
    "    with open(dataset_files_path + filename, mode='r') as f:\n",
    "        for line in f.readlines():\n",
    "            dict_count.update(line.strip().lower().split())\n",
    "            \n",
    "dict_count = {word: freq for word, freq in dict_count.items() if freq >= 50}\n",
    "pickle.dump(dict_count, open(dataset_files_path + \"word_dict_count.ser\", mode='wb'))"
   ]
  },
  {
   "cell_type": "code",
   "execution_count": 27,
   "metadata": {
    "collapsed": false
   },
   "outputs": [
    {
     "name": "stdout",
     "output_type": "stream",
     "text": [
      "news.en-00001-of-00100\n",
      "news.en-00003-of-00100\n",
      "news.en-00002-of-00100\n",
      "news.en-00004-of-00100\n",
      "news.en-00005-of-00100\n",
      "news.en-00006-of-00100\n"
     ]
    }
   ],
   "source": [
    "# merges all files in one\n",
    "\n",
    "with open(dataset_files_path + \"text/all_texts.txt\", mode='w') as out:\n",
    "    for filename in files:\n",
    "        print(filename)\n",
    "        with open(dataset_files_path + 'text/' + filename, mode='r') as f:\n",
    "            for line in f.readlines():\n",
    "                out.write(line)\n"
   ]
  }
 ],
 "metadata": {
  "kernelspec": {
   "display_name": "IPython (Python 2)",
   "language": "python",
   "name": "python2"
  },
  "language_info": {
   "codemirror_mode": {
    "name": "ipython",
    "version": 2
   },
   "file_extension": ".py",
   "mimetype": "text/x-python",
   "name": "python",
   "nbconvert_exporter": "python",
   "pygments_lexer": "ipython2",
   "version": "2.7.6"
  }
 },
 "nbformat": 4,
 "nbformat_minor": 0
}
