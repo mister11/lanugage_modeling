{
 "cells": [
  {
   "cell_type": "code",
   "execution_count": 1,
   "metadata": {
    "collapsed": false
   },
   "outputs": [
    {
     "name": "stdout",
     "output_type": "stream",
     "text": [
      "(0, '0')\n",
      "(132, '1000000')\n",
      "(136, '2000000')\n",
      "(202, '3000000')\n",
      "(256, '4000000')\n",
      "(284, '5000000')\n",
      "(300, '6000000')\n",
      "(333, '7000000')\n",
      "(356, '8000000')\n",
      "(372, '9000000')\n",
      "(375, '10000000')\n",
      "(442, '11000000')\n",
      "(464, '12000000')\n",
      "(471, '13000000')\n",
      "(497, '14000000')\n",
      "(507, '15000000')\n",
      "(509, '16000000')\n",
      "(511, '17000000')\n",
      "(511, '18000000')\n",
      "(511, '19000000')\n",
      "(551, '20000000')\n",
      "(555, '21000000')\n",
      "(600, '22000000')\n",
      "(608, '23000000')\n",
      "(613, '24000000')\n",
      "(614, '25000000')\n",
      "(615, '26000000')\n",
      "(617, '27000000')\n",
      "(623, '28000000')\n",
      "(623, '29000000')\n",
      "(627, '30000000')\n",
      "(632, '31000000')\n",
      "(639, '32000000')\n",
      "(640, '33000000')\n",
      "(647, '34000000')\n",
      "(650, '35000000')\n",
      "(669, '36000000')\n",
      "(684, '37000000')\n",
      "(686, '38000000')\n",
      "(689, '39000000')\n",
      "(689, '40000000')\n",
      "(689, '41000000')\n",
      "(691, '42000000')\n",
      "(694, '43000000')\n",
      "(694, '44000000')\n",
      "(705, '45000000')\n",
      "(719, '46000000')\n",
      "(720, '47000000')\n",
      "(725, '48000000')\n",
      "(725, '49000000')\n",
      "(725, '50000000')\n"
     ]
    }
   ],
   "source": [
    "index = 0\n",
    "char_dict = {}\n",
    "\n",
    "import cPickle as pickle\n",
    "\n",
    "def process_line(line):\n",
    "    global index\n",
    "    for char in line:\n",
    "#         if char not in char_dict:\n",
    "        char_dict[char.lower()] = char_dict.get(char, 0) + 1\n",
    "    \n",
    "# already in lower case\n",
    "with open('../nobackup/hrwac/hrwac_sentences_2.txt', mode='r') as f:\n",
    "    for i, line in enumerate(f):\n",
    "        if i % 1000000 == 0:\n",
    "            print(len(char_dict), str(i))\n",
    "        process_line(unicode(line, 'utf-8').strip())\n",
    "        \n",
    "pickle.dump(char_dict, open('../nobackup/hrwac/char_dict_count_new.ser', mode='wb'))"
   ]
  },
  {
   "cell_type": "code",
   "execution_count": 9,
   "metadata": {
    "collapsed": false
   },
   "outputs": [],
   "source": [
    "import cPickle as pickle\n",
    "cd = pickle.load(open('../nobackup/hrwac/char_dict_count.ser', mode='rb'))\n",
    "items = list(filter(lambda x: x[1] > 1000, cd.items()))\n",
    "# items = cd.items()\n",
    "f = open('dirty_vocab.txt', mode='w')\n",
    "for k, v in (sorted(items, key=lambda x: x[1])):\n",
    "#     print(\"\\t\".join([k, str(v)]))\n",
    "#     print(k, str(v))\n",
    "    f.write(k.encode('utf-8') + \"\\t\" + str(v) + \"\\n\")\n",
    "f.close()\n",
    "#     print(k, v)\n",
    "# print(list(filter(lambda x: x[1] > 1000, cd.items())))"
   ]
  },
  {
   "cell_type": "code",
   "execution_count": 4,
   "metadata": {
    "collapsed": false
   },
   "outputs": [],
   "source": [
    "# char_dict extractor for the test text\n",
    "\n",
    "f = open('text8.txt')\n",
    "list_text = list(f.readlines()[0].strip())\n",
    "f.close\n",
    "\n",
    "char_dict = {}\n",
    "for char in list_text:\n",
    "    char_dict[char] = char_dict.get(char, 0) + 1\n",
    "\n",
    "import cPickle as pickle\n",
    "pickle.dump(char_dict, open('./char_dict_text.ser', mode='wb'))"
   ]
  }
 ],
 "metadata": {
  "kernelspec": {
   "display_name": "IPython (Python 2)",
   "language": "python",
   "name": "python2"
  },
  "language_info": {
   "codemirror_mode": {
    "name": "ipython",
    "version": 2
   },
   "file_extension": ".py",
   "mimetype": "text/x-python",
   "name": "python",
   "nbconvert_exporter": "python",
   "pygments_lexer": "ipython2",
   "version": "2.7.6"
  }
 },
 "nbformat": 4,
 "nbformat_minor": 0
}
